{
  "nbformat": 4,
  "nbformat_minor": 0,
  "metadata": {
    "colab": {
      "provenance": []
    },
    "kernelspec": {
      "name": "python3",
      "display_name": "Python 3"
    },
    "language_info": {
      "name": "python"
    }
  },
  "cells": [
    {
      "cell_type": "markdown",
      "source": [
        "# **AI/Machine Learning Intern Challenge: Simple Content-Based Recommendation**"
      ],
      "metadata": {
        "id": "42cH4zEABptb"
      }
    },
    {
      "cell_type": "markdown",
      "source": [
        "**Public Book Dataset for Content Recommendation**\n",
        "\n",
        "This dataset contains a collection of books with descriptions, genres, and other metadata, making it suitable for building a content-based recommendation system using TF-IDF and cosine similarity."
      ],
      "metadata": {
        "id": "qbnWgXUxCNJQ"
      }
    },
    {
      "cell_type": "markdown",
      "source": [
        "**Content-Based Book Recommendation System**\n",
        "\n",
        "This content-based book recommendation system suggests books based on their textual descriptions and genres. By leveraging TF-IDF (Term Frequency-Inverse Document Frequency) vectorization and cosine similarity, the system matches books to a user’s input description, identifying those with the most relevant themes and content.\n",
        "\n",
        "**How It Works:**\n",
        "Dataset Preparation: Each book has a title, description, and genres stored in a dataset.\n",
        "\n",
        "**Text Processing:** The system combines book descriptions and genres into a single text feature.\n",
        "\n",
        "**TF-IDF Transformation:** Converts the text into numerical vectors, highlighting important words.\n",
        "\n",
        "**User Input Analysis:** The user provides a brief description of what they want to read.\n",
        "\n",
        "**Cosine Similarity Computation:** Measures the similarity between the user’s input and all book descriptions in the dataset.\n",
        "\n",
        "**Recommendation Output:** Returns the top N books that best match the user’s preferences."
      ],
      "metadata": {
        "id": "_hxwX0SfCvbZ"
      }
    },
    {
      "cell_type": "code",
      "source": [
        "import pandas as pd\n",
        "from sklearn.feature_extraction.text import TfidfVectorizer\n",
        "from sklearn.metrics.pairwise import cosine_similarity\n",
        "import re\n",
        "\n",
        "def escape_special_chars(text):\n",
        "    return re.escape(text)\n",
        "\n",
        "def extract_genre(description, genre_list):\n",
        "    extracted_genres = [genre for genre in genre_list if re.search(rf'\\b{escape_special_chars(genre)}\\b', description, re.IGNORECASE)]\n",
        "    return ' '.join(extracted_genres) if extracted_genres else ''\n",
        "\n",
        "def recommend_books(user_description, dataset_path, top_n=5):\n",
        "    # Load dataset\n",
        "    df = pd.read_csv(dataset_path)\n",
        "\n",
        "    # Fill missing values\n",
        "    df['processed_description'] = df['processed_description'].fillna('')\n",
        "    df['processed_genres'] = df['processed_genres'].fillna('')\n",
        "\n",
        "    # Extract genre from user's description\n",
        "    all_genres = set(df['processed_genres'].explode().dropna().unique())\n",
        "    user_genre = extract_genre(user_description, all_genres)\n",
        "\n",
        "    # Combine description and genre into one text feature\n",
        "    df['combined_text'] = df['processed_description'] + \" \" + df['processed_genres']\n",
        "\n",
        "    # TF-IDF Vectorization\n",
        "    vectorizer = TfidfVectorizer(stop_words='english')\n",
        "    tfidf_matrix = vectorizer.fit_transform(df['combined_text'])\n",
        "\n",
        "    # Transform user input\n",
        "    user_input = user_description + \" \" + user_genre\n",
        "    user_vector = vectorizer.transform([user_input])\n",
        "\n",
        "    # Compute cosine similarity\n",
        "    similarities = cosine_similarity(user_vector, tfidf_matrix).flatten()\n",
        "\n",
        " # Get top N recommendations without duplicates\n",
        "    top_indices = list(dict.fromkeys(similarities.argsort()[::-1]))[:top_n]\n",
        "    recommendations = df.iloc[top_indices][['title', 'description', 'genres']].drop_duplicates()\n",
        "\n",
        "    # Display recommendations properly\n",
        "    if recommendations.empty:\n",
        "        print(\"No recommendations found.\")\n",
        "    else:\n",
        "        print(\"Top Recommended Books:\\n\")\n",
        "        for index, row in recommendations.iterrows():\n",
        "            print(f\"Title: {row['title']}\\nDescription: {row['description']}\\nGenres: {row['genres']}\\n{'-'*50}\")\n",
        "\n",
        "    return recommendations\n",
        "# Example usage\n",
        "if __name__ == \"__main__\":\n",
        "    user_desc = input(\"Enter a description: \")\n",
        "    dataset_path = \"/content/dataset.csv\"\n",
        "    print(recommend_books(user_desc, dataset_path))\n"
      ],
      "metadata": {
        "colab": {
          "base_uri": "https://localhost:8080/"
        },
        "id": "qOg7_9zGtDhV",
        "outputId": "8d6edd88-687c-4843-cd39-537a4bd1e821"
      },
      "execution_count": 7,
      "outputs": [
        {
          "output_type": "stream",
          "name": "stdout",
          "text": [
            "Enter a description: A thrilling mystery novel with deep psychological twists.\n",
            "Top Recommended Books:\n",
            "\n",
            "Title: second life\n",
            "Description: The sensational new psychological thriller from the bestselling author of Before I Go To Sleep.She loves her husband. She's obsessed by a stranger.She's a devoted mother. She's prepared to lose everything.She knows what she's doing. She's out of control.She's innocent. She's guilty as sin.She's living two lives. She might lose both . . .\n",
            "Genres: ['thriller', 'fiction', 'mystery', 'suspense', 'crime', 'contemporary', 'books']\n",
            "--------------------------------------------------\n",
            "Title: twilight: the graphic novel, vol. 1 (twilight: the graphic novel, #1)\n",
            "Description: When Isabella Swan moves to the gloomy town of Forks and meets the mysterious, alluring Edward Cullen, her life takes a thrilling and terrifying turn. With his porcelain skin, golden eyes, mesmerizing voice, and supernatural gifts, Edward is both irresistible and impenetrable. Up until now, he has managed to keep his true identity hidden, but Bella is determined to uncover his dark secret...\n",
            "Genres: ['graphic-novels', 'young-adult', 'fantasy', 'romance', 'manga', 'paranormal', 'comics', 'fiction']\n",
            "--------------------------------------------------\n",
            "Title: new moon (twilight, #2)\n",
            "Description: There is an alternate cover edition for ISBN13 9780316160193 here. I knew we were both in mortal danger. Still, in that instant, I felt well. Whole. I could feel my heart racing in my chest, the blood pulsing hot and fast through my veins again. My lungs filled deep with the sweet scent that came off his skin. It was like there had never been any hole in my chest. I was perfect - not healed, but as if there had never been a wound in the first place. I FELT LIKE I WAS TRAPPED IN ONE OF THOSE TERRIFYING NIGHTMARES, the one where you have to run, run till your lungs burst, but you can't make your body move fast enough.... But this was no dream, and, unlike the nightmare, I wasn't running for my life; I was racing to save something infinitely more precious. My own life meant little to me today. FOR BELLA SWAN THERE IS ONE THING more important than life itself: Edward Cullen. But being in love with a vampire is even more dangerous than Bella could ever have imagined. Edward has already rescued Bella from the clutches of one evil vampire, but now, as their daring relationship threatens all that is near and dear to them, they realize their troubles may be just beginning....LEGIONS OF READERS ENTRANCED BY THE New York Times bestseller Twilight are hungry for the continuing story of star-crossed lovers Bell and Edward. In New Moon, Stephanie Meyer delivers another irresistible combination of romance and suspense with a supernatural spin. passionate, riveting, and full of surprising twists and turns, this vampire love saga is well on its way to literary immortality.\n",
            "Genres: ['young-adult', 'fantasy', 'romance', 'fiction', 'paranormal']\n",
            "--------------------------------------------------\n",
            "                                                 title  \\\n",
            "413                                        second life   \n",
            "300  twilight: the graphic novel, vol. 1 (twilight:...   \n",
            "147                            new moon (twilight, #2)   \n",
            "\n",
            "                                           description  \\\n",
            "413  The sensational new psychological thriller fro...   \n",
            "300  When Isabella Swan moves to the gloomy town of...   \n",
            "147  There is an alternate cover edition for ISBN13...   \n",
            "\n",
            "                                                genres  \n",
            "413  ['thriller', 'fiction', 'mystery', 'suspense',...  \n",
            "300  ['graphic-novels', 'young-adult', 'fantasy', '...  \n",
            "147  ['young-adult', 'fantasy', 'romance', 'fiction...  \n"
          ]
        }
      ]
    }
  ]
}